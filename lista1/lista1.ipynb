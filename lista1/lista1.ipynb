{
 "cells": [
  {
   "cell_type": "markdown",
   "metadata": {},
   "source": [
    "# Lista 1\n",
    "\n",
    "## Kurs wybranego języka programowania (Python)\n",
    "\n",
    "Wszystkie rozwiązania proszę wpisać w tym notatniku poniżej treści zadań. Zadania z `*` to zadania dodatkowe."
   ]
  },
  {
   "cell_type": "markdown",
   "metadata": {},
   "source": [
    "## Zadanie 1 _(5pt)_\n",
    "\n",
    "Napisz funkcję, który wyświetla trójkąt Pascala o zadanej wysokości\n",
    "```\n",
    "                1\n",
    "              1   1\n",
    "            1   2   1\n",
    "          1   3   3   1\n",
    "        1   4   6   4   1\n",
    "      .....................\n",
    "```"
   ]
  },
  {
   "cell_type": "code",
   "execution_count": 32,
   "metadata": {},
   "outputs": [
    {
     "name": "stdout",
     "output_type": "stream",
     "text": [
      "                                                  1\n",
      "                                                1   1\n",
      "                                              1   2   1\n",
      "                                            1   3   3   1\n",
      "                                          1   4   6   4   1\n",
      "                                        1   5   10   10   5   1\n",
      "                                      1   6   15   20   15   6   1\n",
      "                                    1   7   21   35   35   21   7   1\n",
      "                                  1   8   28   56   70   56   28   8   1\n",
      "                                1   9   36   84   126   126   84   36   9   1\n",
      "                              1   10   45   120   210   252   210   120   45   10   1\n",
      "                            1   11   55   165   330   462   462   330   165   55   11   1\n",
      "                          1   12   66   220   495   792   924   792   495   220   66   12   1\n",
      "                        1   13   78   286   715   1287   1716   1716   1287   715   286   78   13   1\n",
      "                      1   14   91   364   1001   2002   3003   3432   3003   2002   1001   364   91   14   1\n",
      "                    1   15   105   455   1365   3003   5005   6435   6435   5005   3003   1365   455   105   15   1\n",
      "                  1   16   120   560   1820   4368   8008   11440   12870   11440   8008   4368   1820   560   120   16   1\n",
      "                1   17   136   680   2380   6188   12376   19448   24310   24310   19448   12376   6188   2380   680   136   17   1\n",
      "              1   18   153   816   3060   8568   18564   31824   43758   48620   43758   31824   18564   8568   3060   816   153   18   1\n",
      "            1   19   171   969   3876   11628   27132   50388   75582   92378   92378   75582   50388   27132   11628   3876   969   171   19   1\n",
      "          1   20   190   1140   4845   15504   38760   77520   125970   167960   184756   167960   125970   77520   38760   15504   4845   1140   190   20   1\n",
      "        1   21   210   1330   5985   20349   54264   116280   203490   293930   352716   352716   293930   203490   116280   54264   20349   5985   1330   210   21   1\n",
      "      1   22   231   1540   7315   26334   74613   170544   319770   497420   646646   705432   646646   497420   319770   170544   74613   26334   7315   1540   231   22   1\n",
      "    1   23   253   1771   8855   33649   100947   245157   490314   817190   1144066   1352078   1352078   1144066   817190   490314   245157   100947   33649   8855   1771   253   23   1\n",
      "  1   24   276   2024   10626   42504   134596   346104   735471   1307504   1961256   2496144   2704156   2496144   1961256   1307504   735471   346104   134596   42504   10626   2024   276   24   1\n",
      "1   25   300   2300   12650   53130   177100   480700   1081575   2042975   3268760   4457400   5200300   5200300   4457400   3268760   2042975   1081575   480700   177100   53130   12650   2300   300   25   1\n"
     ]
    }
   ],
   "source": [
    "def pascal_triangle(n):\n",
    "    prevRow = [1]\n",
    "    print(\"  \" * n, 1, sep='')\n",
    "    n = n-1\n",
    "    length = 2;\n",
    "    \n",
    "    # n - wysokość trójkąta (ile wierszy zostało do wydrukowania)\n",
    "    # length - poziom trójkąta (ilość liczb w danym wierszu)\n",
    "    \n",
    "    while n >= 0:\n",
    "        currRow = [1]\n",
    "        \n",
    "        for i in range(1, length-1):\n",
    "            currRow.append(prevRow[i-1] + prevRow[i])\n",
    "            \n",
    "        currRow.append(1)\n",
    "        \n",
    "        print(\"  \" * n, \"   \".join([str(item) for item in currRow]), sep='')\n",
    "        \n",
    "        n = n - 1\n",
    "        prevRow = currRow\n",
    "        length = length + 1\n",
    "\n",
    "        \n",
    "        \n",
    "    \n",
    "pascal_triangle(25)"
   ]
  },
  {
   "cell_type": "markdown",
   "metadata": {},
   "source": [
    "## Zadanie 2 _(5pt)_\n",
    "\n",
    "Napisz funkcję `primes(n)` zwracająca listę liczb pierwszych nie większych niż $n$ np.\n",
    "\n",
    "```\n",
    "In [ ]:   primes(6)\n",
    "Out [ ]: [2, 3, 5]\n",
    "```"
   ]
  },
  {
   "cell_type": "code",
   "execution_count": 33,
   "metadata": {},
   "outputs": [
    {
     "data": {
      "text/plain": [
       "[2,\n",
       " 3,\n",
       " 5,\n",
       " 7,\n",
       " 11,\n",
       " 13,\n",
       " 17,\n",
       " 19,\n",
       " 23,\n",
       " 29,\n",
       " 31,\n",
       " 37,\n",
       " 41,\n",
       " 43,\n",
       " 47,\n",
       " 53,\n",
       " 59,\n",
       " 61,\n",
       " 67,\n",
       " 71,\n",
       " 73,\n",
       " 79,\n",
       " 83,\n",
       " 89,\n",
       " 97]"
      ]
     },
     "execution_count": 33,
     "metadata": {},
     "output_type": "execute_result"
    }
   ],
   "source": [
    "import math\n",
    "\n",
    "def primes(n):\n",
    "    list = [];\n",
    "    \n",
    "    for number in range(2, n+1):\n",
    "        root = int(math.sqrt(number))\n",
    "        \n",
    "        for divisor in range(2, root + 1):\n",
    "            if number % divisor == 0:\n",
    "                break\n",
    "        else:\n",
    "            list.append(number) # wykona się, jeśli pętla przejdzie przez cały range\n",
    "            \n",
    "    return list\n",
    "\n",
    "primes(100)\n",
    "            "
   ]
  },
  {
   "cell_type": "markdown",
   "metadata": {},
   "source": [
    "## Zadanie 3 _(5pt)_\n",
    "\n",
    "Napisz funkcje, która usuwa wszystkie powtarzające się elementy z listy (tak, że każdy element występuje tylko raz) np. z listy `[1,1,2,2,2,3,3,5,5,5,4,4,4,0]` dostajemy `[1,2,3,5,4,0]`."
   ]
  },
  {
   "cell_type": "code",
   "execution_count": 3,
   "metadata": {},
   "outputs": [
    {
     "data": {
      "text/plain": [
       "[1, 2, 3, 5, 4, 0]"
      ]
     },
     "execution_count": 3,
     "metadata": {},
     "output_type": "execute_result"
    }
   ],
   "source": [
    "def remove_duplicates(l):\n",
    "    new_list = list(dict.fromkeys(l))\n",
    "    return new_list\n",
    "\n",
    "remove_duplicates([1,1,2,2,2,3,3,5,5,5,4,4,4,0])"
   ]
  },
  {
   "cell_type": "markdown",
   "metadata": {},
   "source": [
    "## Zadanie 4 _(10pt)_\n",
    "\n",
    "Napisz funkcję `prime_factors(n)`, która rozkłada $n$ na czynniki pierwsze i jako wynik wraca listę par $[(p_1,\\alpha_1), (p_2,\\alpha_2), \\ldots, (p_k, \\alpha_k)]$ taką, że $p_1^{\\alpha_1}p_2^{\\alpha_2}\\ldots p_k^{\\alpha_k}$.\n"
   ]
  },
  {
   "cell_type": "code",
   "execution_count": 1,
   "metadata": {},
   "outputs": [
    {
     "name": "stdout",
     "output_type": "stream",
     "text": [
      "[(2, 2), (5, 2)]\n"
     ]
    }
   ],
   "source": [
    "import math\n",
    "\n",
    "def prime_factors(n):\n",
    "    factors = []\n",
    "    root = math.isqrt(n)\n",
    "    \n",
    "    for i in range(2, root+1):\n",
    "        counter = 0 # zlicza, ile razy pojawia się czynnik i w liczbie n\n",
    "        \n",
    "        while n % i == 0:\n",
    "            counter = counter + 1\n",
    "            n = int(n / i)\n",
    "        \n",
    "        if counter != 0:\n",
    "            factors.append((i,counter))\n",
    "            \n",
    "        if n == 1:\n",
    "            return factors\n",
    "        \n",
    "    # wykona się, jeśli liczba n na końcu jest liczbą pierwszą\n",
    "    factors.append((n,1))\n",
    "    return factors\n",
    "        \n",
    "print(prime_factors(100))\n",
    "            "
   ]
  },
  {
   "cell_type": "markdown",
   "metadata": {},
   "source": [
    "## Zadanie 5 _(10pt)_\n",
    "\n",
    "Napisz funkcję `fraczero(n)` liczącą silnie $n!$ dla $n$ od $0$ do $10000$ oraz jako wynik wraca liczbę zer na końcu $n!$."
   ]
  },
  {
   "cell_type": "code",
   "execution_count": 34,
   "metadata": {},
   "outputs": [
    {
     "data": {
      "text/plain": [
       "63"
      ]
     },
     "execution_count": 34,
     "metadata": {},
     "output_type": "execute_result"
    }
   ],
   "source": [
    "import math\n",
    "\n",
    "def fraczero(n):\n",
    "    factorial_str = str(math.factorial(n))\n",
    "    return len(factorial_str) - len(factorial_str.rstrip('0')) # różnica długości stringa i stringa bez końcowych zer\n",
    "\n",
    "fraczero(256)"
   ]
  },
  {
   "cell_type": "markdown",
   "metadata": {},
   "source": [
    "## Zadanie 6 _(10pt)_\n",
    "\n",
    "Napisz program, który generuje liczbę $20$ liczb losowych (rozkład jednostajny) od $1$ do $100$\n",
    "* Wyświetl listę wygenerowanych liczb\n",
    "* Wyświetl średnią\n",
    "* Wyświetl największą i najmniejszą wartość\n",
    "* Wyświetl drugą największą i drugą najmniejszą wartość na liście\n",
    "* Wyświetl ile jest liczb parzystych na liście\n",
    " "
   ]
  },
  {
   "cell_type": "code",
   "execution_count": 15,
   "metadata": {},
   "outputs": [
    {
     "name": "stdout",
     "output_type": "stream",
     "text": [
      "List: [5, 1, 61, 80, 92, 46, 57, 15, 21, 80, 32, 2, 61, 12, 83, 74, 25, 75, 10, 68]\n",
      "Average: 45.0\n",
      "Max: 92\n",
      "Min: 1\n",
      "Second max: 83\n",
      "Second min: 2\n",
      "Number of even numbers: 10\n",
      "Sorted list: [1, 2, 5, 10, 12, 15, 21, 25, 32, 46, 57, 61, 61, 68, 74, 75, 80, 80, 83, 92]\n"
     ]
    }
   ],
   "source": [
    "from numpy.random import randint\n",
    "import numpy as np\n",
    "\n",
    "numbers = list(randint(1,101,20))\n",
    "print(\"List: \" + str(numbers))\n",
    "\n",
    "sum = 0 # suma do liczenia średniej\n",
    "length = 20 # długość listy\n",
    "_max = 1\n",
    "_min = 100\n",
    "second_max = 1\n",
    "second_min = 100\n",
    "even_counter = 0 # licznik liczb parzystych\n",
    "\n",
    "\n",
    "for number in numbers:\n",
    "    sum = sum + number\n",
    "    \n",
    "    if number > _max:\n",
    "        _max = number\n",
    "    elif number > second_max:\n",
    "        second_max = number\n",
    "        \n",
    "    if number < _min:\n",
    "        _min = number\n",
    "    elif number < second_min:\n",
    "        second_min = number\n",
    "        \n",
    "    if number % 2 == 0:\n",
    "        even_counter = even_counter + 1\n",
    "        \n",
    "print(\"Average: \" + str(sum/length))\n",
    "print(\"Max: \" + str(_max))\n",
    "print(\"Min: \" + str(_min))\n",
    "print(\"Second max: \" + str(second_max))\n",
    "print(\"Second min: \" + str(second_min))\n",
    "print(\"Number of even numbers: \" + str(even_counter))\n",
    "\n",
    "numbers.sort()\n",
    "print(\"Sorted list: \" + str(numbers))\n"
   ]
  },
  {
   "cell_type": "markdown",
   "metadata": {},
   "source": [
    "## Zadanie 7 _(10pt)_\n",
    "\n",
    "Załóżmy, że mamy następującą listę: `L = ['aababacaa', 'cabaabcca', 'aaabbcbacb', 'acababbaab', ...]` wygenerowaną losowo tzn. lista zawiera losowe ciągi znaków o zadanej długości z liter `'a'`, `'b'` i `'c'`. Takie wzorce występują w wielu miejscach np. sekwencje DNA. Użytkownik zawiera swój (wzorzec) ciąg znaków z literami i pustymi miejscami oznaczonymi przez `'*'` np. `\"a**a******\"`. Wykorzystaj słownik z kluczami zawierającymi indeksy znaków różnych od `'*'` i wartościami liter z wzorca. Napisz program, który znajduje wszystkie sekwencje z listy, które pasuje do podanego wzorca."
   ]
  },
  {
   "cell_type": "code",
   "execution_count": 35,
   "metadata": {},
   "outputs": [
    {
     "data": {
      "text/plain": [
       "['acababbaab']"
      ]
     },
     "execution_count": 35,
     "metadata": {},
     "output_type": "execute_result"
    }
   ],
   "source": [
    "# pattern: string\n",
    "\n",
    "def pattern_matcher(L,pattern):\n",
    "    dictionary = {index:symbol for (index,symbol) in enumerate(pattern) if symbol != '*'}\n",
    "    matching = [text for text in L if all(text[i] == symbol for (i,symbol) in dictionary.items())]\n",
    "    \n",
    "    return matching\n",
    "\n",
    "pattern_matcher(['aababacaa', 'cabaabcca', 'aaabbcbacb', 'acababbaab'], \"***ba*b***\")\n",
    "            "
   ]
  },
  {
   "cell_type": "markdown",
   "metadata": {},
   "source": [
    "## Zadanie 8 _(10pt)_\n",
    "\n",
    "Napisz program, który konwerteruje liczby rzymskie na liczby arabskie. Do zapisu liczb rzymskich używa\n",
    "się 7 liter: `I=1`, `V=5`, `X=10`, `L=50`, `C=100`, `D=500`, `M=1000`. Opis algorytmu zamiany z i na system rzymski można znaleźć np. [tutaj](http://www.algorytm.org/algorytmy-arytmetyczne/zamiana-z-i-na-system-rzymski.html)"
   ]
  },
  {
   "cell_type": "code",
   "execution_count": 31,
   "metadata": {},
   "outputs": [
    {
     "data": {
      "text/plain": [
       "1995"
      ]
     },
     "execution_count": 31,
     "metadata": {},
     "output_type": "execute_result"
    }
   ],
   "source": [
    "def roman_to_arabic(text):\n",
    "    dictionary = {'I': 1, 'V': 5, 'X': 10, 'L': 50, 'C': 100, 'D': 500, 'M': 1000}\n",
    "    number = 0\n",
    "    \n",
    "    for i,symbol in enumerate(text[:-1]): # pętla przez wszystkie symbole bez ostatniego\n",
    "        if dictionary[symbol] < dictionary[text[i+1]]:\n",
    "            number = number - dictionary[symbol]\n",
    "        else:\n",
    "            number = number + dictionary[symbol]\n",
    "    \n",
    "    number = number + dictionary[text[-1]]\n",
    "    return number\n",
    "            \n",
    "roman_to_arabic(\"MCMXCV\")"
   ]
  },
  {
   "cell_type": "markdown",
   "metadata": {},
   "source": [
    "## Zadanie 9* _(5pt)_\n",
    "\n",
    "Napisz program kalkulator, który pobiera wprowadzone wartości oraz funkcje z klawiatury następnie podaje wynik. W przypadku błędnych danych zgłasza błąd.\n",
    "\n",
    "Przykładowa sesja:\n",
    "```\n",
    "    Kalkulator\n",
    "    [1]: 2+5*10\n",
    "        52\n",
    "    [2]: sin(0.5)+cos(0.3)\n",
    "        1.434762027729809\n",
    "    [3]: 2^100\n",
    "        1267650600228229401496703205376\n",
    "```\n",
    "\n",
    "Przykładowy kod pobierania danych od użytkownika:\n",
    "\n",
    "```\n",
    "    x = input('Podaj x = ')\n",
    "```"
   ]
  },
  {
   "cell_type": "code",
   "execution_count": 4,
   "metadata": {},
   "outputs": [
    {
     "name": "stdout",
     "output_type": "stream",
     "text": [
      "Podaj wyrażenie: sin(0.5)+cos(0.3)\n",
      "math.sin(0.5)+math.cos(0.3)\n",
      "1.434762027729809\n",
      "Podaj wyrażenie: 2^100\n",
      "2**100\n",
      "1267650600228229401496703205376\n",
      "Podaj wyrażenie: 2+5*10\n",
      "2+5*10\n",
      "52\n",
      "Podaj wyrażenie: exit\n",
      "Koniec\n"
     ]
    }
   ],
   "source": [
    "import math\n",
    "\n",
    "e = input(\"Podaj wyrażenie: \")\n",
    "\n",
    "while e != \"exit\":\n",
    "    e = e.replace(\"^\", \"**\")\n",
    "    e = e.replace(\"sin\", \"math.sin\")\n",
    "    e = e.replace(\"cos\", \"math.cos\")\n",
    "    print(e)\n",
    "    print(eval(e))\n",
    "    e = input(\"Podaj wyrażenie: \")\n",
    "    \n",
    "print(\"Koniec\")"
   ]
  },
  {
   "cell_type": "markdown",
   "metadata": {},
   "source": [
    "\n",
    "## Zadanie 10* _(10pt)_\n",
    "\n",
    "Napisz program, który rysuje na ekranie w trybie znakowym wykres funkcji zmiennej $x$. Wskazówka: utwórz  ,,tablicę dwuwymiarową'' o wymiarach 80x24 i narysuj wykres w tej tablicy. Następnie wynik wyświetl na ekranie.\n",
    "\n",
    "```\n",
    "        Podaj funkcje f(x) = sin(x)\n",
    "        Podaj początek przedziału a = -pi\n",
    "        Podaj koniec przedziału b = pi\n",
    "                                                |\n",
    "                                                |\n",
    "                                                |              ***********\n",
    "                                                |           ***           ***\n",
    "                                                |         **                 **\n",
    "                                                |        *                     *\n",
    "                                                |      **                       **\n",
    "                                                |     *                           *\n",
    "                                                |   **                             **\n",
    "                                                |  *                                 *\n",
    "                                                | *                                   *\n",
    "                                                |*                                     *\n",
    "        ----------------------------------------|---------------------------------------\n",
    "          *                                   * |\n",
    "           *                                 *  |\n",
    "            **                             **   |\n",
    "              *                           *     |\n",
    "               **                       **      |\n",
    "                 *                     *        |\n",
    "                  **                 **         |\n",
    "                    ***           ***           |\n",
    "                       ***** *****              |\n",
    "                            *                   |\n",
    "                                                |\n",
    "```"
   ]
  },
  {
   "cell_type": "code",
   "execution_count": 29,
   "metadata": {},
   "outputs": [
    {
     "name": "stdout",
     "output_type": "stream",
     "text": [
      "*                                        |                                     *\n",
      " *                                       |                                    * \n",
      "  *                                      |                                   *  \n",
      "   *                                     |                                  *   \n",
      "    *                                    |                                 *    \n",
      "     *                                   |                                *     \n",
      "      *                                  |                               *      \n",
      "       *                                 |                              *       \n",
      "        *                                |                             *        \n",
      "         *                               |                            *         \n",
      "          *                              |                           *          \n",
      "           *                             |                          *           \n",
      "            *                            |                         *            \n",
      "             *                           |                       **             \n",
      "              **                         |                      *               \n",
      "                *                        |                     *                \n",
      "                 **                      |                   **                 \n",
      "                   *                     |                  *                   \n",
      "-----------------------------------------|--------------------------------------\n",
      "                      **                 |              **                      \n",
      "                        **               |            **                        \n",
      "                          ***            |         ***                          \n",
      "                             ***         |      ***                             \n",
      "                                *********|******                                \n"
     ]
    }
   ],
   "source": [
    "import math\n",
    "import numpy as np\n",
    "\n",
    "def draw_plot(a,b,f):\n",
    "    y_axis_length = 24\n",
    "    x_axis_length = 80\n",
    "    plot = [list(' ' * y_axis_length) for _ in range(0, x_axis_length)]\n",
    "    x_gap = (b-a) / x_axis_length\n",
    "    f_points = {x : f(x) for x in np.linspace(a, b, x_axis_length)}\n",
    "    f_values = list(f_points.values())\n",
    "    f_max = max(f_values)\n",
    "    f_min = min(f_values)\n",
    "    y_gap = (f_max-f_min) / y_axis_length\n",
    "    \n",
    "    # {indeks kolumny: dolna granica przedziału na osi OY, któremu ten indeks odpowiada)}\n",
    "    y_cells = {i : f_min + i * y_gap for i in range(0, y_axis_length)}\n",
    "    x_cells = {i : a + i * x_gap for i in range(0, x_axis_length)}\n",
    "    \n",
    "    for index,value in enumerate(f_values):\n",
    "        for i,interval in y_cells.items():\n",
    "            if abs(value - interval) <= y_gap:\n",
    "                plot[index][i] = '*'\n",
    "                break\n",
    "    \n",
    "    # draw OX\n",
    "    x_axis = 0\n",
    "    y_axis = 0\n",
    "    \n",
    "    for i,interval in y_cells.items():\n",
    "        if abs(interval) <= y_gap:\n",
    "            x_axis = i\n",
    "            \n",
    "    for i in range(0, x_axis_length):\n",
    "        plot[i][x_axis] = '-'\n",
    "        \n",
    "    # draw OY\n",
    "    for i,interval in x_cells.items():\n",
    "        if abs(interval) <= x_gap:\n",
    "            y_axis = i\n",
    "            \n",
    "    for i in range(0, y_axis_length):\n",
    "        plot[y_axis][i] = '|'\n",
    "    \n",
    "                \n",
    "    # printing\n",
    "    for j in range(y_axis_length - 1, -1, -1):\n",
    "        for i in range(0, x_axis_length):\n",
    "            print(plot[i][j], end='')\n",
    "        print()\n",
    "    \n",
    "def f(x):\n",
    "    #return math.sin(x + 1.57)\n",
    "    return x**2 - 5 + x**3\n",
    "\n",
    "draw_plot(-5, 5, f)\n",
    "\n",
    "\n",
    "\n"
   ]
  },
  {
   "cell_type": "code",
   "execution_count": null,
   "metadata": {},
   "outputs": [],
   "source": []
  },
  {
   "cell_type": "code",
   "execution_count": null,
   "metadata": {},
   "outputs": [],
   "source": []
  }
 ],
 "metadata": {
  "kernelspec": {
   "display_name": "Python 3",
   "language": "python",
   "name": "python3"
  },
  "language_info": {
   "codemirror_mode": {
    "name": "ipython",
    "version": 3
   },
   "file_extension": ".py",
   "mimetype": "text/x-python",
   "name": "python",
   "nbconvert_exporter": "python",
   "pygments_lexer": "ipython3",
   "version": "3.8.1"
  }
 },
 "nbformat": 4,
 "nbformat_minor": 2
}
